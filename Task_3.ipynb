{
  "nbformat": 4,
  "nbformat_minor": 0,
  "metadata": {
    "colab": {
      "name": "Untitled3.ipynb",
      "provenance": [],
      "authorship_tag": "ABX9TyNNDxrtUL8CE+GkM3GuwIf1",
      "include_colab_link": true
    },
    "kernelspec": {
      "name": "python3",
      "display_name": "Python 3"
    },
    "language_info": {
      "name": "python"
    }
  },
  "cells": [
    {
      "cell_type": "markdown",
      "metadata": {
        "id": "view-in-github",
        "colab_type": "text"
      },
      "source": [
        "<a href=\"https://colab.research.google.com/github/Neha2109/OOP/blob/main/Task_3.ipynb\" target=\"_parent\"><img src=\"https://colab.research.google.com/assets/colab-badge.svg\" alt=\"Open In Colab\"/></a>"
      ]
    },
    {
      "cell_type": "markdown",
      "metadata": {
        "id": "cF9JbAvNQHuB"
      },
      "source": [
        "**Program-1**"
      ]
    },
    {
      "cell_type": "code",
      "metadata": {
        "colab": {
          "base_uri": "https://localhost:8080/"
        },
        "id": "IhO_JLa_P8iW",
        "outputId": "0d888ba1-4a47-4f3c-d868-6b8decd98658"
      },
      "source": [
        "class Student:\n",
        "  def set_Data(self):\n",
        "        self.name = input(\"Enter the name of student : \")\n",
        "        self.reg_no = int(input(\"Enter the Registration Number : \"))\n",
        "        self.age = int(input(\"Enter the age : \"))\n",
        "        self.gender = input(\"Enter Gender : \")\n",
        "        self.branch = input(\"Enter Branch : \")\n",
        "        self.sem = int(input(\"Enter the semester: \"))\n",
        "    \n",
        "  def get_Data(self):\n",
        "        print(f\"\\nStudent information :  \\nName : {self.name} \\nRegistration number : {self.reg_no}  \\nAge : {self.age} \\nGender : {self.gender} \\nBranch : {self.branch} \\nsemester : {self.sem}\")\n",
        "\n",
        "class StudentResultInfo(Student):\n",
        "    def set_Data(self):\n",
        "        Student.set_Data(self)\n",
        "        self.total_marks = int(input(\"Enter total marks : \"))\n",
        "        self.percentage = float(input(\"Enter percentage : \"))\n",
        "        self.grade = input(\"Enter grade : \")\n",
        "\n",
        "    def get_Data(self):\n",
        "        Student.get_Data(self)\n",
        "        print(f\"Total Marks : {self.total_marks} \\nPercentage : {self.percentage} \\nGrade : {self.grade}\")\n",
        "\n",
        "s1 = StudentResultInfo()\n",
        "s1.set_Data()\n",
        "s1.get_Data()"
      ],
      "execution_count": 1,
      "outputs": [
        {
          "output_type": "stream",
          "name": "stdout",
          "text": [
            "Enter the name of student : Neha Porwal\n",
            "Enter the Registration Number : 92\n",
            "Enter the age : 19\n",
            "Enter Gender : female\n",
            "Enter Branch : cse\n",
            "Enter the semester: 3\n",
            "Enter total marks : 100\n",
            "Enter percentage : 90\n",
            "Enter grade : a\n",
            "\n",
            "Student information :  \n",
            "Name : Neha Porwal \n",
            "Registration number : 92  \n",
            "Age : 19 \n",
            "Gender : female \n",
            "Branch : cse \n",
            "semester : 3\n",
            "Total Marks : 100 \n",
            "Percentage : 90.0 \n",
            "Grade : a\n"
          ]
        }
      ]
    },
    {
      "cell_type": "markdown",
      "metadata": {
        "id": "66BjFaNgQhL6"
      },
      "source": [
        "**Program-2**"
      ]
    },
    {
      "cell_type": "code",
      "metadata": {
        "colab": {
          "base_uri": "https://localhost:8080/"
        },
        "id": "4inXCBueUP8t",
        "outputId": "26778428-6dec-48d0-d67e-aab1fa0fd34f"
      },
      "source": [
        "class PDFs:\n",
        "  def __init__(self, creator, description, size):\n",
        "    self.creator = creator\n",
        "    self.description = description\n",
        "    self.size = size\n",
        "\n",
        "  def displayInfo(self):\n",
        "    print(\"Created by:\",self.creator)\n",
        "    print(\"Description:\", self.description)\n",
        "    print(\"File size (in KBs):\", self.size)\n",
        "\n",
        "  def sizeLimit(self):\n",
        "    if self.size > 256:\n",
        "      print(\"Size exceeds threshold.\\n\")\n",
        "    else:\n",
        "      print(\"Size is within the threshold.\\n\")\n",
        "\n",
        "class Pictures(PDFs):\n",
        "  def __init__(self, creator, description, size, dimension):\n",
        "    super().__init__(creator, description, size)\n",
        "    self.dimension = dimension\n",
        "\n",
        "  def displayPicInfo(self):\n",
        "    self.displayInfo()\n",
        "    print(\"Dimensions (in pixels):\", self.dimension)\n",
        "\n",
        "  def dimensionLimit(self):\n",
        "    if self.dimension>2000:\n",
        "      print(\" high dimension!\\n\")\n",
        "    else:\n",
        "      print(\" dimensions are fine.\\n\")\n",
        "      \n",
        "pdf1 = PDFs(\"Neha\", \"it was purchased yesterday\", 15.1)\n",
        "pdf1.displayInfo()\n",
        "pdf1.sizeLimit()\n",
        "print()\n",
        "img = Pictures(\"The best\", \"File\", 500000, 1856)\n",
        "img.displayPicInfo()\n",
        "img.dimensionLimit()\n"
      ],
      "execution_count": 13,
      "outputs": [
        {
          "output_type": "stream",
          "name": "stdout",
          "text": [
            "Created by: Neha\n",
            "Description: it was purchased yesterday\n",
            "File size (in KBs): 15.1\n",
            "Size is within the threshold.\n",
            "\n",
            "\n",
            "Created by: The best\n",
            "Description: File\n",
            "File size (in KBs): 500000\n",
            "Dimensions (in pixels): 1856\n",
            " dimensions are fine.\n",
            "\n"
          ]
        }
      ]
    },
    {
      "cell_type": "markdown",
      "metadata": {
        "id": "9bBl8M_xQ5_B"
      },
      "source": [
        "**Program-3**"
      ]
    },
    {
      "cell_type": "code",
      "metadata": {
        "colab": {
          "base_uri": "https://localhost:8080/"
        },
        "id": "kBW8CF6vQ_UI",
        "outputId": "26711ac3-e8f9-4e67-a840-6e8133fdfaba"
      },
      "source": [
        "class Vehicle:\n",
        "  def __init__(self,name,mileage,capacity):\n",
        "    self.name=name\n",
        "    self.mileage=mileage\n",
        "    self.capacity=capacity\n",
        "  def bus_fare(self):\n",
        "    if(self.name != \"bus\" or \"BUS\" or \"Bus\"):\n",
        "      fare = self.capacity*100\n",
        "      print(\"Fare charges is = {} \\n\".format(fare))\n",
        "  def info(self):\n",
        "    print(\" Name = {} \\nMileage = {} \\nCapacity = {}\".format(self.name,self.mileage,self.capacity))\n",
        "\n",
        "class Bus(Vehicle):\n",
        "  def __init__(self,name,mileage,capacity):\n",
        "    Vehicle.__init__(self,name,mileage,capacity)\n",
        "  def Fare(self):\n",
        "    if(self.name == \"bus\" or self.name == \"BUS\" or self.name == \"Bus\"):\n",
        "      fare = self.capacity*100 +self.capacity*10\n",
        "      print(\"Total fare is = \",format(fare))  \n",
        "    else:\n",
        "      fare = self.capacity*100\n",
        "      print(\"Fare charges is = \",format(fare))\n",
        "      \n",
        "\n",
        "p1 = Bus(\"BUS\",50,60)\n",
        "p1.Fare()\n",
        "p1.info()\n",
        "p2 = Bus(\"bike\",200,5)\n",
        "p2.Fare()\n",
        "p2.info()\n",
        "p3 = Bus(\"car\",250,5)\n",
        "p3.Fare()\n",
        "p3.info()"
      ],
      "execution_count": 10,
      "outputs": [
        {
          "output_type": "stream",
          "name": "stdout",
          "text": [
            "Total fare is =  6600\n",
            " Name = BUS \n",
            "Mileage = 50 \n",
            "Capacity = 60\n",
            "Fare charges is =  500\n",
            " Name = bike \n",
            "Mileage = 200 \n",
            "Capacity = 5\n",
            "Fare charges is =  500\n",
            " Name = car \n",
            "Mileage = 250 \n",
            "Capacity = 5\n"
          ]
        }
      ]
    }
  ]
}