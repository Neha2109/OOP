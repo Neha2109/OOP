{
  "nbformat": 4,
  "nbformat_minor": 0,
  "metadata": {
    "colab": {
      "name": "Lab_Assign_1.ipynb",
      "provenance": [],
      "collapsed_sections": [],
      "toc_visible": true,
      "authorship_tag": "ABX9TyN8kfSFOkdtTRW4oEIx/Dw8",
      "include_colab_link": true
    },
    "kernelspec": {
      "name": "python3",
      "display_name": "Python 3"
    },
    "language_info": {
      "name": "python"
    }
  },
  "cells": [
    {
      "cell_type": "markdown",
      "metadata": {
        "id": "view-in-github",
        "colab_type": "text"
      },
      "source": [
        "<a href=\"https://colab.research.google.com/github/Neha2109/OOP/blob/main/Lab_Assign_1.ipynb\" target=\"_parent\"><img src=\"https://colab.research.google.com/assets/colab-badge.svg\" alt=\"Open In Colab\"/></a>"
      ]
    },
    {
      "cell_type": "code",
      "metadata": {
        "colab": {
          "base_uri": "https://localhost:8080/"
        },
        "id": "rejjhAPE6h4k",
        "outputId": "5ce57dcc-a5c7-47d4-ac35-7bfb3e9fae25"
      },
      "source": [
        "print(\"PROGRAM -I\\n\")\n",
        "\n",
        "def checkyear(year):\n",
        "  if(year%400 == 0):\n",
        "    return(True)\n",
        "  elif(year%4==0 and year %100 != 0):\n",
        "    return(TRUE)\n",
        "  else:\n",
        "    return(False)\n",
        "year = int(input(\"Enter the Year: \"))\n",
        "checkyear(year)"
      ],
      "execution_count": 4,
      "outputs": [
        {
          "name": "stdout",
          "output_type": "stream",
          "text": [
            "PROGRAM -I\n",
            "\n",
            "Enter the Year: 2002\n"
          ]
        },
        {
          "output_type": "execute_result",
          "data": {
            "text/plain": [
              "False"
            ]
          },
          "metadata": {},
          "execution_count": 4
        }
      ]
    },
    {
      "cell_type": "code",
      "metadata": {
        "colab": {
          "base_uri": "https://localhost:8080/"
        },
        "id": "_7YT1P9w7Alf",
        "outputId": "b572ce6a-ba6b-4a62-b817-5cab5be0eaba"
      },
      "source": [
        "print(\"PROGRAM-II\\n\")\n",
        "n = int(input(\"Enter the number: \"))\n",
        "if(n%2 != 0):\n",
        "  print(\"Weird\")  \n",
        "elif(n%2 == 0):\n",
        "  if(n>= 2 and n<=5):\n",
        "    print(\"Not Weird\")\n",
        "  if(n>=6 and n<=20):\n",
        "    print(\"Weird\")\n",
        "  if(n>20):\n",
        "    print(\"Not Weird\")"
      ],
      "execution_count": 5,
      "outputs": [
        {
          "output_type": "stream",
          "name": "stdout",
          "text": [
            "PROGRAM-II\n",
            "\n",
            "Enter the number: 123\n",
            "Weird\n"
          ]
        }
      ]
    },
    {
      "cell_type": "code",
      "metadata": {
        "colab": {
          "base_uri": "https://localhost:8080/"
        },
        "id": "LkG8pCiS7f9x",
        "outputId": "c7036028-626d-4f2b-d4ef-c84cb40c1986"
      },
      "source": [
        "print(\"PROGRAM-III\\n\")\n",
        "n = int(input(\"Enter the number of guests: \"))\n",
        "guests = []\n",
        "for i in range(0, n):\n",
        "  name = str(input(\"Enter the name of guests: \"))\n",
        "  guests.append([name])\n",
        "print(\"Guests are: \", guests)\n",
        "if(n%2==0):\n",
        "  for k in range( int((n)/2) , n-1):\n",
        "    print(\"\\nFashionable late persons : \", guests[k])\n",
        "elif(n%2 != 0):\n",
        "  for k in range( int((n-1)/2) , n-1):\n",
        "    print(\"\\nFashionable late persons : \", guests[k])"
      ],
      "execution_count": 7,
      "outputs": [
        {
          "output_type": "stream",
          "name": "stdout",
          "text": [
            "PROGRAM-III\n",
            "\n",
            "Enter the number of guests: 2\n",
            "Enter the name of guests: NEHA\n",
            "Enter the name of guests: HARSHITA\n",
            "Guests are:  [['NEHA'], ['HARSHITA']]\n"
          ]
        }
      ]
    },
    {
      "cell_type": "code",
      "metadata": {
        "colab": {
          "base_uri": "https://localhost:8080/"
        },
        "id": "NP0Bbc4v7wvQ",
        "outputId": "29c20036-b0bb-4212-8b14-93b9e5c60169"
      },
      "source": [
        "print(\"PROGRAM - IV\\n\")\n",
        "def word_search_2(title_list, keyword):\n",
        "    # make lowercase and remove punctuation\n",
        "    keyword = keyword.lower().strip('.,')\n",
        "\n",
        "    result_list = []\n",
        "    for i, title in enumerate(title_list):\n",
        "        # make lowercase and remove punctuation, then split into words\n",
        "        words = title.lower().strip('.,').split()\n",
        "\n",
        "        if keyword in words:\n",
        "            result_list.append((i, title))\n",
        "\n",
        "    return result_list\n",
        "\n",
        "if __name__ == '__main__':\n",
        "    docs = [\n",
        "        'The Learn Python Challenge Casino',\n",
        "        'They bought a car, and a horse',\n",
        "        'The big casino.',\n",
        "        'Casinoville?',\n",
        "    ]\n",
        "    w = 'casino'\n",
        "\n",
        "    print(word_search_2(docs, w))"
      ],
      "execution_count": 8,
      "outputs": [
        {
          "output_type": "stream",
          "name": "stdout",
          "text": [
            "PROGRAM - IV\n",
            "\n",
            "[(0, 'The Learn Python Challenge Casino'), (2, 'The big casino.')]\n"
          ]
        }
      ]
    },
    {
      "cell_type": "code",
      "metadata": {
        "colab": {
          "base_uri": "https://localhost:8080/"
        },
        "id": "2M3tkq-D78JK",
        "outputId": "73ca5fcb-6b13-4ce6-e46d-a6913fcc2d0f"
      },
      "source": [
        "print(\"PROGRAM-V\\n\")\n",
        "bp = float(input(\"Enter the Basic Pay: \"))\n",
        "da = (40*bp)/100\n",
        "hra = (20*bp)/100\n",
        "gp = bp + da + hra\n",
        "print(gp)"
      ],
      "execution_count": 9,
      "outputs": [
        {
          "output_type": "stream",
          "name": "stdout",
          "text": [
            "PROGRAM-V\n",
            "\n",
            "Enter the Basic Pay: 200\n",
            "320.0\n"
          ]
        }
      ]
    }
  ]
}