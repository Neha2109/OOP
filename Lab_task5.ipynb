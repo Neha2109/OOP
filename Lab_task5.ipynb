{
  "nbformat": 4,
  "nbformat_minor": 0,
  "metadata": {
    "colab": {
      "name": "Lab_task5.ipynb",
      "provenance": [],
      "authorship_tag": "ABX9TyNGCNAqUmJxbraTO9aJXGy7",
      "include_colab_link": true
    },
    "kernelspec": {
      "name": "python3",
      "display_name": "Python 3"
    },
    "language_info": {
      "name": "python"
    }
  },
  "cells": [
    {
      "cell_type": "markdown",
      "metadata": {
        "id": "view-in-github",
        "colab_type": "text"
      },
      "source": [
        "<a href=\"https://colab.research.google.com/github/Neha2109/OOP/blob/main/Lab_task5.ipynb\" target=\"_parent\"><img src=\"https://colab.research.google.com/assets/colab-badge.svg\" alt=\"Open In Colab\"/></a>"
      ]
    },
    {
      "cell_type": "markdown",
      "metadata": {
        "id": "YfLaJ_g__bIE"
      },
      "source": [
        "**Program-1**"
      ]
    },
    {
      "cell_type": "code",
      "metadata": {
        "colab": {
          "base_uri": "https://localhost:8080/"
        },
        "id": "5L8BYizt_aDS",
        "outputId": "56db7900-7c33-4aea-9dbd-5eae6b18a532"
      },
      "source": [
        "\n",
        "class shape():\n",
        "  def area(self):\n",
        "    pass\n",
        "\n",
        "class circle(shape):\n",
        "  def __init__(self, r):\n",
        "    self.r = r\n",
        "  \n",
        "  def area(self):\n",
        "    a = 3.14*self.r\n",
        "    print(\"Area of Circle is: \", a)\n",
        "\n",
        "class square(shape):\n",
        "  def __init__(self, l):\n",
        "    self.l = l\n",
        "  \n",
        "  def area(self):\n",
        "    b = self.l*self.l\n",
        "    print(\"Area of Square is: \", b)\n",
        "\n",
        "class rectangle(shape):\n",
        "  def __init__(self, length, breadth):\n",
        "    self.length = length\n",
        "    self.breadth = breadth\n",
        "  \n",
        "  def area(self):\n",
        "    c = self.length*self.breadth\n",
        "    print(\"Area of Rectangle is: \", c)\n",
        "\n",
        "A = circle(3)\n",
        "A.area()\n",
        "\n",
        "B = square(3)\n",
        "B.area()\n",
        "\n",
        "C = rectangle(3, 4)\n",
        "C.area()"
      ],
      "execution_count": 6,
      "outputs": [
        {
          "output_type": "stream",
          "name": "stdout",
          "text": [
            "Area of Circle is:  9.42\n",
            "Area of Square is:  9\n",
            "Area of Rectangle is:  12\n"
          ]
        }
      ]
    },
    {
      "cell_type": "markdown",
      "metadata": {
        "id": "hTFB6r_P_Zc8"
      },
      "source": [
        ""
      ]
    },
    {
      "cell_type": "markdown",
      "metadata": {
        "id": "ltcfFg7XAzwE"
      },
      "source": [
        "**Program-2**"
      ]
    },
    {
      "cell_type": "code",
      "metadata": {
        "colab": {
          "base_uri": "https://localhost:8080/"
        },
        "id": "fgMscTpB_X6i",
        "outputId": "0bff7bdd-c1ec-437e-c747-d7e4c163d17a"
      },
      "source": [
        "class Travel:\n",
        "    def __init__(self, passengers, distance, mode):\n",
        "        self.__passengers = passengers\n",
        "        self.distance = distance\n",
        "        self.mode = mode\n",
        "\n",
        "    def getPassengers(self):\n",
        "        return self.__passengers\n",
        "\n",
        "class Train(Travel):\n",
        "    def costOfTrip(self):\n",
        "        self.costPerPerson = 60\n",
        "        return (self.getPassengers() * self.costPerPerson)\n",
        "\n",
        "\n",
        "class Bus(Travel):\n",
        "    def costOfTrip(self):\n",
        "        self.costPerPerson = 100\n",
        "        return (self.getPassengers() * self.costPerPerson)\n",
        "\n",
        "\n",
        "t1 = Train(5, 60, \"Train\")\n",
        "print(f\"Cost to travel from Train : {t1.costOfTrip()}\")\n",
        "\n",
        "b1 = Bus(5, 60, \"Bus\")\n",
        "print(f\"Cost to travel from Bus : {b1.costOfTrip()}\")"
      ],
      "execution_count": 7,
      "outputs": [
        {
          "output_type": "stream",
          "name": "stdout",
          "text": [
            "Cost to travel from Train : 300\n",
            "Cost to travel from Bus : 500\n"
          ]
        }
      ]
    },
    {
      "cell_type": "markdown",
      "metadata": {
        "id": "AqDnbKLfBRrS"
      },
      "source": [
        "**Program-3**"
      ]
    },
    {
      "cell_type": "code",
      "metadata": {
        "colab": {
          "base_uri": "https://localhost:8080/"
        },
        "id": "W9lOYdPSBVET",
        "outputId": "8dce609a-e8e7-4d3c-8294-0e99c8219d83"
      },
      "source": [
        "class car():\n",
        "  def __init__(self, model_no):\n",
        "    self.model_no = model_no\n",
        "    \n",
        "  def get(self):\n",
        "    return self.model_no\n",
        "\n",
        "c1 = car('UV123')\n",
        "a = c1.get()\n",
        "c2 = car('XZ456')\n",
        "b = c2.get()\n",
        "\n",
        "print(\"Model number of Car 1 is: \", a)\n",
        "print(\"Model number of Car 2 is: \", b)\n",
        "\n",
        "a, b = b, a \n",
        "\n",
        "print(\"Model Number of Car 1 and Car 2 after swaping respectively are: \", a, b)"
      ],
      "execution_count": 8,
      "outputs": [
        {
          "output_type": "stream",
          "name": "stdout",
          "text": [
            "Model number of Car 1 is:  UV123\n",
            "Model number of Car 2 is:  XZ456\n",
            "Model Number of Car 1 and Car 2 after swaping respectively are:  XZ456 UV123\n"
          ]
        }
      ]
    }
  ]
}