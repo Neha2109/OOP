{
  "nbformat": 4,
  "nbformat_minor": 0,
  "metadata": {
    "colab": {
      "name": "Untitled2.ipynb",
      "provenance": [],
      "collapsed_sections": [],
      "authorship_tag": "ABX9TyPGAV/qGRih9w7xCDgaM5qG",
      "include_colab_link": true
    },
    "kernelspec": {
      "name": "python3",
      "display_name": "Python 3"
    },
    "language_info": {
      "name": "python"
    }
  },
  "cells": [
    {
      "cell_type": "markdown",
      "metadata": {
        "id": "view-in-github",
        "colab_type": "text"
      },
      "source": [
        "<a href=\"https://colab.research.google.com/github/Neha2109/OOP/blob/main/LabAssignment_2.ipynb\" target=\"_parent\"><img src=\"https://colab.research.google.com/assets/colab-badge.svg\" alt=\"Open In Colab\"/></a>"
      ]
    },
    {
      "cell_type": "markdown",
      "metadata": {
        "id": "6ahSQfx1fFgi"
      },
      "source": [
        "**Problem-1**"
      ]
    },
    {
      "cell_type": "code",
      "metadata": {
        "colab": {
          "base_uri": "https://localhost:8080/"
        },
        "id": "YFeeb4gMe_K1",
        "outputId": "9d118812-1613-40a9-ba48-b6ba44a35048"
      },
      "source": [
        "class circle():\n",
        "  def __init__(self, r):\n",
        "    self.radius = r\n",
        "  \n",
        "  def area(self):\n",
        "    return self.radius**2*3.14\n",
        "  \n",
        "  def perimeter(self):\n",
        "    return self.radius*2*3.14\n",
        "\n",
        "A = circle(8)\n",
        "print(\"Area of circle is: \", A.area())\n",
        "print(\"Perimeter of circle is: \", A.perimeter())"
      ],
      "execution_count": 1,
      "outputs": [
        {
          "output_type": "stream",
          "name": "stdout",
          "text": [
            "Area of circle is:  200.96\n",
            "Perimeter of circle is:  50.24\n"
          ]
        }
      ]
    },
    {
      "cell_type": "markdown",
      "metadata": {
        "id": "p7mgCloFf2Ev"
      },
      "source": [
        "**Problem-2**"
      ]
    },
    {
      "cell_type": "code",
      "metadata": {
        "colab": {
          "base_uri": "https://localhost:8080/"
        },
        "id": "9ZZS6J2Hf0uO",
        "outputId": "9d6b2ace-3fb5-4cc0-af49-d917d5906a8b"
      },
      "source": [
        "class Faculty:\n",
        "\n",
        "    def setData(self):\n",
        "        self.name = input(\"Enter the name : \") \n",
        "        self.emp_ID = int(input(\"Enter  employee ID : \"))\n",
        "        self.branch = input(\"Enter branch : \")\n",
        "        self.salary = int(input(\"Enter  salary : \"))\n",
        "\n",
        "    def getData(self):\n",
        "      print(f\"Name: \", {self.name})\n",
        "      print(f\"Employee ID: \", {self.emp_ID})\n",
        "      print(f\"Branch: \", {self.branch})\n",
        "      print(f\"Salary: \", {self.salary})\n",
        "\n",
        "      return self.name, self.emp_ID, self.branch, self.salary\n",
        "\n",
        "list_Faculty = []\n",
        "for i in range(1, 6):\n",
        "    temp = Faculty()\n",
        "    print(f\"\\nEnter  data for employee {i}  : \")\n",
        "    temp.setData()\n",
        "    list_Faculty.append(temp)\n",
        "\n",
        "for i in range(0, 5):\n",
        "    print(f\"\\nData of employee {i+1}  : \")\n",
        "    list_Faculty[i].getData()"
      ],
      "execution_count": 2,
      "outputs": [
        {
          "output_type": "stream",
          "name": "stdout",
          "text": [
            "\n",
            "Enter  data for employee 1  : \n",
            "Enter the name : Neha Porwal\n",
            "Enter  employee ID : 092\n",
            "Enter branch : CSE\n",
            "Enter  salary : 200000\n",
            "\n",
            "Enter  data for employee 2  : \n",
            "Enter the name : Yashu\n",
            "Enter  employee ID : 130\n",
            "Enter branch : CSE\n",
            "Enter  salary : 23754\n",
            "\n",
            "Enter  data for employee 3  : \n",
            "Enter the name : Vinayak\n",
            "Enter  employee ID : 136\n",
            "Enter branch : ece\n",
            "Enter  salary : 50000\n",
            "\n",
            "Enter  data for employee 4  : \n",
            "Enter the name : harshita\n",
            "Enter  employee ID : 141\n",
            "Enter branch : cse\n",
            "Enter  salary : 2300000\n",
            "\n",
            "Enter  data for employee 5  : \n",
            "Enter the name : Nikhil\n",
            "Enter  employee ID : 98\n",
            "Enter branch : dsai\n",
            "Enter  salary : 2560\n",
            "\n",
            "Data of employee 1  : \n",
            "Name:  {'Neha Porwal'}\n",
            "Employee ID:  {92}\n",
            "Branch:  {'CSE'}\n",
            "Salary:  {200000}\n",
            "\n",
            "Data of employee 2  : \n",
            "Name:  {'Yashu'}\n",
            "Employee ID:  {130}\n",
            "Branch:  {'CSE'}\n",
            "Salary:  {23754}\n",
            "\n",
            "Data of employee 3  : \n",
            "Name:  {'Vinayak'}\n",
            "Employee ID:  {136}\n",
            "Branch:  {'ece'}\n",
            "Salary:  {50000}\n",
            "\n",
            "Data of employee 4  : \n",
            "Name:  {'harshita'}\n",
            "Employee ID:  {141}\n",
            "Branch:  {'cse'}\n",
            "Salary:  {2300000}\n",
            "\n",
            "Data of employee 5  : \n",
            "Name:  {'Nikhil'}\n",
            "Employee ID:  {98}\n",
            "Branch:  {'dsai'}\n",
            "Salary:  {2560}\n"
          ]
        }
      ]
    },
    {
      "cell_type": "markdown",
      "metadata": {
        "id": "dK6Wj9BJg9BH"
      },
      "source": [
        "**Problem-3**"
      ]
    },
    {
      "cell_type": "code",
      "metadata": {
        "colab": {
          "base_uri": "https://localhost:8080/"
        },
        "id": "H7CW2flcg-VL",
        "outputId": "a09edcee-6ac8-4475-b423-3877598361c7"
      },
      "source": [
        "class Account:\n",
        "    def __init__(self, accNo, accHolder, amount):\n",
        "        self.accountNumber = accNo\n",
        "        self.accountHolder = accHolder\n",
        "        self.accountAmount = amount\n",
        "\n",
        "    def deposit(self):\n",
        "        depAmount = int(input(\"Enter the amount to deposit : \"))\n",
        "        self.accountAmount += depAmount\n",
        "        print(f\"Amount deposited : {depAmount}\")\n",
        "        print(f\"New Balance : {self.accountAmount}\")\n",
        "\n",
        "    def withdraw(self):\n",
        "        withAmount = int(input(\"Enter the amount to withdraw : \"))\n",
        "        if withAmount > self.accountAmount:\n",
        "            print(\"Your Account don't have sufficient ammount !!\")\n",
        "            return -1\n",
        "        self.accountAmount -= withAmount\n",
        "        print(f\"Amount withdraw : {withAmount}\")\n",
        "        print(f\"New Balance : {self.accountAmount}\")\n",
        "        return withAmount\n",
        "\n",
        "    def checkBalance(self):\n",
        "        print(f\"Balance : {self.accountAmount}\")\n",
        "        return self.accountAmount\n",
        "\n",
        "    def getDetails(self):\n",
        "        print(f\"Account Number : {self.accountNumber}\")\n",
        "        print(f\"Account Holder : {self.accountHolder}\") \n",
        "        print(f\"Balance : {self.accountAmount}\")\n",
        "        return self.accountNumber, self.accountHolder, self.accountAmount\n",
        "\n",
        "N = Account(107, \"Neha Porwal\", 2050)\n",
        "N.deposit()\n",
        "withdraw = N.withdraw()\n",
        "balance = N.checkBalance()\n",
        "details = N.getDetails()"
      ],
      "execution_count": 4,
      "outputs": [
        {
          "output_type": "stream",
          "name": "stdout",
          "text": [
            "Enter the amount to deposit : 150000\n",
            "Amount deposited : 150000\n",
            "New Balance : 152050\n",
            "Enter the amount to withdraw : 2300\n",
            "Amount withdraw : 2300\n",
            "New Balance : 149750\n",
            "Balance : 149750\n",
            "Account Number : 107\n",
            "Account Holder : Neha Porwal\n",
            "Balance : 149750\n"
          ]
        }
      ]
    },
    {
      "cell_type": "markdown",
      "metadata": {
        "id": "8dJ2jIpuiEVj"
      },
      "source": [
        "**Problem-4**"
      ]
    },
    {
      "cell_type": "code",
      "metadata": {
        "colab": {
          "base_uri": "https://localhost:8080/"
        },
        "id": "3H54ol1Fg8LM",
        "outputId": "7826d337-67e6-4970-9c1b-5bef0d5be598"
      },
      "source": [
        "class Records:\n",
        "\n",
        "    def setData(self):\n",
        "        self.name = input(\"Enter the name of the student : \")\n",
        "        self.ID = int(input(\"Enter the USN of the student : \"))\n",
        "        self.marks = []\n",
        "        for i in range(1, 4):\n",
        "            marks = input(f\"Enter the marks for subject {i} : \")\n",
        "            self.marks.append(marks)\n",
        "\n",
        "    def getData(self):\n",
        "        print(f\"Name : {self.name}\")\n",
        "        print(f\"USN : {self.ID}\") \n",
        "        print(f\"Marks : \\nSubject 1 : {self.marks[0]} \\nSubject 2 : {self.marks[1]} \\nSubject 3 : {self.marks[2]}\")\n",
        "        return self.name, self.ID, self.marks\n",
        "\n",
        "s1 = Records()\n",
        "s1.setData()\n",
        "list_1 = s1.getData()\n",
        "print(list_1)"
      ],
      "execution_count": 5,
      "outputs": [
        {
          "output_type": "stream",
          "name": "stdout",
          "text": [
            "Enter the name of the student : Neha Porwal\n",
            "Enter the USN of the student : 123456\n",
            "Enter the marks for subject 1 : 46\n",
            "Enter the marks for subject 2 : 34\n",
            "Enter the marks for subject 3 : 56\n",
            "Name : Neha Porwal\n",
            "USN : 123456\n",
            "Marks : \n",
            "Subject 1 : 46 \n",
            "Subject 2 : 34 \n",
            "Subject 3 : 56\n",
            "('Neha Porwal', 123456, ['46', '34', '56'])\n"
          ]
        }
      ]
    },
    {
      "cell_type": "markdown",
      "metadata": {
        "id": "asK_1E90ib7F"
      },
      "source": [
        "**Problem-5**"
      ]
    },
    {
      "cell_type": "code",
      "metadata": {
        "colab": {
          "base_uri": "https://localhost:8080/"
        },
        "id": "2ultxHwbiVkX",
        "outputId": "ea2d402d-c154-4ffa-cc49-728bcdeaf7f9"
      },
      "source": [
        "class Patient:\n",
        "    def setData(self):\n",
        "        self.name = input(\"Enter the name of the patient : \")\n",
        "        self.dateOfAdmission = input(\"Enter the date of admission : \")\n",
        "        self.symptoms = input(\"Enter all the symptoms with a space in between : \").split(\" \")\n",
        "        self.oxygenLevel = int(input(\"Enter the oxygen level of the patient : \"))\n",
        "        self.dateOfDischarge = input(\"Enter the date of discharge : \")\n",
        "\n",
        "    def getData(self):\n",
        "        print(f\"\\nName : {self.name} \\nDate of Admission : {self.dateOfAdmission} \\nSymptoms : {self.symptoms} \\nOxygen Level : {self.oxygenLevel} \\nDate of Discharge : {self.dateOfDischarge}\\n\")\n",
        "        return self.name, self.dateOfAdmission, self.symptoms, self.oxygenLevel, self.dateOfDischarge\n",
        "\n",
        "    def checkSeverity(self):\n",
        "        if self.oxygenLevel < 90:\n",
        "            print(\"Patient's condition is severe.\")\n",
        "        else:\n",
        "            print(\"Patient is fine.\")\n",
        "\n",
        "\n",
        "class Hospital:    \n",
        "    def __init__(self):\n",
        "        self.listOfPatients = []\n",
        "        self.oxygenSupport = []\n",
        "\n",
        "    def addPatient(self):\n",
        "        temp = Patient()\n",
        "        temp.setData()\n",
        "        if temp.oxygenLevel < 90:\n",
        "            self.oxygenSupport.append(1)\n",
        "        else:\n",
        "            self.oxygenSupport.append(0)\n",
        "        self.listOfPatients.append(temp)\n",
        "\n",
        "    def checkSeverity(self):\n",
        "        name = input(\"Enter the name of the patient : \")\n",
        "        for i in range(0, len(self.listOfPatients)):\n",
        "            if name == self.listOfPatients[i].name:\n",
        "              self.listOfPatients[i].checkSeverity()\n",
        "              return 1\n",
        "        print(\"Patient not found\")\n",
        "\n",
        "\n",
        "    def getOxygenSupport(self):\n",
        "        return self.oxygenSupport.count(1)\n",
        "\n",
        "    def generalWard(self):\n",
        "        return self.oxygenSupport.count(0)\n",
        "\n",
        "    def totalPatients(self):\n",
        "        return len(self.listOfPatients)\n",
        "\n",
        "\n",
        "H1 = Hospital()\n",
        "\n",
        "for i in range(0, 2):\n",
        "    H1.addPatient()\n",
        "    H1.listOfPatients[i].getData()\n",
        "    H1.listOfPatients[i].checkSeverity()\n",
        "\n",
        "print(H1.getOxygenSupport())\n",
        "print(H1.generalWard())\n",
        "print(H1.totalPatients())\n",
        "H1.checkSeverity()"
      ],
      "execution_count": 7,
      "outputs": [
        {
          "output_type": "stream",
          "name": "stdout",
          "text": [
            "Enter the name of the patient : Neha Porwal\n",
            "Enter the date of admission : 23'\n",
            "Enter all the symptoms with a space in between : Cough Cold Fever Tonsils\n",
            "Enter the oxygen level of the patient : 97\n",
            "Enter the date of discharge : 30\n",
            "\n",
            "Name : Neha Porwal \n",
            "Date of Admission : 23' \n",
            "Symptoms : ['Cough', 'Cold', 'Fever', 'Tonsils'] \n",
            "Oxygen Level : 97 \n",
            "Date of Discharge : 30\n",
            "\n",
            "Patient is fine.\n",
            "Enter the name of the patient : Harshita NG\n",
            "Enter the date of admission : 21\n",
            "Enter all the symptoms with a space in between : Fever\n",
            "Enter the oxygen level of the patient : 98\n",
            "Enter the date of discharge : 23\n",
            "\n",
            "Name : Harshita NG \n",
            "Date of Admission : 21 \n",
            "Symptoms : ['Fever'] \n",
            "Oxygen Level : 98 \n",
            "Date of Discharge : 23\n",
            "\n",
            "Patient is fine.\n",
            "0\n",
            "2\n",
            "2\n",
            "Enter the name of the patient : Vinayak\n",
            "Patient not found\n"
          ]
        }
      ]
    },
    {
      "cell_type": "markdown",
      "metadata": {
        "id": "htyZsVmgj7NT"
      },
      "source": [
        "**Problem-6**"
      ]
    },
    {
      "cell_type": "code",
      "metadata": {
        "colab": {
          "base_uri": "https://localhost:8080/"
        },
        "id": "pUuUVKYMj6YG",
        "outputId": "82439d5f-c418-46d0-b7ea-b05df01964d2"
      },
      "source": [
        "class Time:\n",
        "    def Default(self):\n",
        "        self.hours = 0\n",
        "        self.minutes = 0\n",
        "        self.seconds = 0\n",
        "\n",
        "    def Value(self, hours, minutes, seconds):\n",
        "        if seconds > 59:\n",
        "            tempMinutes = seconds // 60\n",
        "            seconds = seconds % 60\n",
        "            self.seconds = seconds\n",
        "            self.minutes = tempMinutes + minutes\n",
        "        else:\n",
        "            self.seconds = seconds\n",
        "            self.minutes = minutes\n",
        "\n",
        "        if self.minutes > 59:\n",
        "            tempHours = self.minutes // 60\n",
        "            self.minutes = self.minutes % 60\n",
        "            self.hours = tempHours + hours\n",
        "        else:\n",
        "            self.minutes = minutes\n",
        "            self.hours = hours\n",
        "\n",
        "    def display(self):\n",
        "        print(f\"Time : {self.hours}::{self.minutes}::{self.seconds}\")\n",
        "\n",
        "T1 = Time()\n",
        "T1.Default()\n",
        "T1.display()\n",
        "T1.Value(20, 59, 59)\n",
        "T1.display()\n",
        "T1.Value(20, 140, 250)\n",
        "T1.display()\n",
        "T1.Value(20, 140, 50)\n",
        "T1.display()\n"
      ],
      "execution_count": 9,
      "outputs": [
        {
          "output_type": "stream",
          "name": "stdout",
          "text": [
            "Time : 0::0::0\n",
            "Time : 20::59::59\n",
            "Time : 22::24::10\n",
            "Time : 22::20::50\n"
          ]
        }
      ]
    },
    {
      "cell_type": "markdown",
      "metadata": {
        "id": "rYaIDFKBkP5h"
      },
      "source": [
        "Problem-7"
      ]
    },
    {
      "cell_type": "code",
      "metadata": {
        "colab": {
          "base_uri": "https://localhost:8080/"
        },
        "id": "b9whDKmSkOWk",
        "outputId": "30b90ae8-c4f6-4070-db66-4a27f965ba7e"
      },
      "source": [
        "class Student:\n",
        "    def __init__(self, name, age, rollNo):\n",
        "        self.name = name\n",
        "        self.age = age\n",
        "        self.rollNo = rollNo\n",
        "\n",
        "    @classmethod\n",
        "    def compare(cls, std1, std2):\n",
        "        if std1.age == std2.age:\n",
        "            print(\"Age of the students are equal.\")\n",
        "        else:\n",
        "            print(\"Age of the students are not equal.\")\n",
        "\n",
        "S1 = Student(\"Neha\", 29, 35)\n",
        "S2 = Student(\"Harshita\", 39, 67)\n",
        "\n",
        "Student.compare(S1, S2)"
      ],
      "execution_count": 11,
      "outputs": [
        {
          "output_type": "stream",
          "name": "stdout",
          "text": [
            "Age of the students are not equal.\n"
          ]
        }
      ]
    },
    {
      "cell_type": "markdown",
      "metadata": {
        "id": "XZAmuxTckfKG"
      },
      "source": [
        "**Problem-8**"
      ]
    },
    {
      "cell_type": "code",
      "metadata": {
        "colab": {
          "base_uri": "https://localhost:8080/"
        },
        "id": "B_9JLqK1keQW",
        "outputId": "0a5f0520-875b-4730-9f50-01aacc010f63"
      },
      "source": [
        "class Student:\n",
        "    sem = 3\n",
        "    institute = \"IIIT Dharwad\"\n",
        "    \n",
        "    def setData(self):\n",
        "        self.name = input(\"Enter the name of the student : \")\n",
        "        self.id = int(input(\"Enter the USN of student : \"))\n",
        "\n",
        "    def getInstanceData(self):\n",
        "        print(f\"Name : {self.name}\")\n",
        "        print(f\"USN = {self.id}\")\n",
        "\n",
        "    @classmethod\n",
        "    def getClassData(cls):\n",
        "        print(f\"Semester : {cls.sem}\")\n",
        "        print(f\"Institute : {cls.institute}\")\n",
        "\n",
        "    @staticmethod\n",
        "    def getExplanation():\n",
        "        print(\"Class variables (sem, institute) are printed using ClassMethod and Instance variables (name, id) are printed using Instance Method\")\n",
        "\n",
        "\n",
        "s1 = Student()\n",
        "s1.setData()\n",
        "s1.getInstanceData()\n",
        "Student.getClassData()\n",
        "Student.getExplanation()"
      ],
      "execution_count": 12,
      "outputs": [
        {
          "output_type": "stream",
          "name": "stdout",
          "text": [
            "Enter the name of the student : Neha\n",
            "Enter the USN of student : 12345\n",
            "Name : Neha\n",
            "USN = 12345\n",
            "Semester : 3\n",
            "Institute : IIIT Dharwad\n",
            "Class variables (sem, institute) are printed using ClassMethod and Instance variables (name, id) are printed using Instance Method\n"
          ]
        }
      ]
    },
    {
      "cell_type": "markdown",
      "metadata": {
        "id": "OkGAMjNukyeV"
      },
      "source": [
        "**Problem-9**"
      ]
    },
    {
      "cell_type": "code",
      "metadata": {
        "colab": {
          "base_uri": "https://localhost:8080/"
        },
        "id": "EGiK9yv-kxeQ",
        "outputId": "0795848e-a17c-4948-bf9f-635d86c1d444"
      },
      "source": [
        "class Student:\n",
        "    def setData(self):\n",
        "        self.Name = input(\"Enter the name : \")\n",
        "        self.ID = int(input(\"Enter the Roll Number : \"))\n",
        "        self.sem = int(input(\"Enter the semester number : \"))\n",
        "        self.nLaptop = int(input(\"Enter the number of laptops : \"))\n",
        "        self.listLaptop = []\n",
        "        for i in range (0, self.nLaptop):\n",
        "            tempObj = self.Laptop()\n",
        "            self.listLaptop.append(tempObj)\n",
        "\n",
        "    class Laptop:\n",
        "        def __init__(self):\n",
        "            self.cpu = input(\"Enter the name of the CPU : \")\n",
        "            self.ram = input(\"Enter the RAM of the Laptop : \")\n",
        "            self.hardDisk = input(\"Enter the size of hard disk : \")\n",
        "            self.display = input(\"Enter the display resolution : \")\n",
        "        \n",
        "        def getData(self):\n",
        "            print(f\"CPU : {self.cpu}\") \n",
        "            print(f\"RAM : {self.ram}\")\n",
        "            print(f\"Hard Disk : {self.hardDisk}\")\n",
        "            print(f\"Display Resolution : {self.display}\")\n",
        "\n",
        "    def getData(self):\n",
        "        print(f\"Name : {self.Name}\") \n",
        "        print(f\"USN : {self.ID}\")\n",
        "        print(f\"Semester : {self.sem}\")\n",
        "        print(f\"Number of Laptops : {self.nLaptop}\")\n",
        "        for i in range(0, self.nLaptop):\n",
        "            print(f\"Details of laptop {i+1}  : \")\n",
        "            self.listLaptop[i].getData()\n",
        "\n",
        "S1 = Student()\n",
        "S1.setData()\n",
        "S1.getData()"
      ],
      "execution_count": 14,
      "outputs": [
        {
          "output_type": "stream",
          "name": "stdout",
          "text": [
            "Enter the name : Neha\n",
            "Enter the Roll Number : 92\n",
            "Enter the semester number : 3\n",
            "Enter the number of laptops : 3\n",
            "Enter the name of the CPU : 1\n",
            "Enter the RAM of the Laptop : 4\n",
            "Enter the size of hard disk : 80\n",
            "Enter the display resolution : 65\n",
            "Enter the name of the CPU : samsung\n",
            "Enter the RAM of the Laptop : 3\n",
            "Enter the size of hard disk : 80\n",
            "Enter the display resolution : 65\n",
            "Enter the name of the CPU : intel\n",
            "Enter the RAM of the Laptop : 3\n",
            "Enter the size of hard disk : 60\n",
            "Enter the display resolution : 60\n",
            "Name : Neha\n",
            "USN : 92\n",
            "Semester : 3\n",
            "Number of Laptops : 3\n",
            "Details of laptop 1  : \n",
            "CPU : 1\n",
            "RAM : 4\n",
            "Hard Disk : 80\n",
            "Display Resolution : 65\n",
            "Details of laptop 2  : \n",
            "CPU : samsung\n",
            "RAM : 3\n",
            "Hard Disk : 80\n",
            "Display Resolution : 65\n",
            "Details of laptop 3  : \n",
            "CPU : intel\n",
            "RAM : 3\n",
            "Hard Disk : 60\n",
            "Display Resolution : 60\n"
          ]
        }
      ]
    }
  ]
}